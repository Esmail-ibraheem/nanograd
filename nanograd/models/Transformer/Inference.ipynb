{
 "cells": [
  {
   "cell_type": "code",
   "execution_count": 2,
   "metadata": {},
   "outputs": [
    {
     "name": "stdout",
     "output_type": "stream",
     "text": [
      "Collecting torchtext\n",
      "  Downloading torchtext-0.18.0-cp312-cp312-win_amd64.whl.metadata (7.9 kB)\n",
      "Requirement already satisfied: tqdm in c:\\users\\esmail-ata\\appdata\\local\\anaconda3\\lib\\site-packages (from torchtext) (4.66.4)\n",
      "Requirement already satisfied: requests in c:\\users\\esmail-ata\\appdata\\local\\anaconda3\\lib\\site-packages (from torchtext) (2.32.2)\n",
      "Requirement already satisfied: torch>=2.3.0 in c:\\users\\esmail-ata\\appdata\\local\\anaconda3\\lib\\site-packages (from torchtext) (2.4.0+cu121)\n",
      "Requirement already satisfied: numpy in c:\\users\\esmail-ata\\appdata\\local\\anaconda3\\lib\\site-packages (from torchtext) (1.26.4)\n",
      "Requirement already satisfied: filelock in c:\\users\\esmail-ata\\appdata\\local\\anaconda3\\lib\\site-packages (from torch>=2.3.0->torchtext) (3.13.1)\n",
      "Requirement already satisfied: typing-extensions>=4.8.0 in c:\\users\\esmail-ata\\appdata\\local\\anaconda3\\lib\\site-packages (from torch>=2.3.0->torchtext) (4.11.0)\n",
      "Requirement already satisfied: sympy in c:\\users\\esmail-ata\\appdata\\local\\anaconda3\\lib\\site-packages (from torch>=2.3.0->torchtext) (1.12)\n",
      "Requirement already satisfied: networkx in c:\\users\\esmail-ata\\appdata\\local\\anaconda3\\lib\\site-packages (from torch>=2.3.0->torchtext) (3.2.1)\n",
      "Requirement already satisfied: jinja2 in c:\\users\\esmail-ata\\appdata\\local\\anaconda3\\lib\\site-packages (from torch>=2.3.0->torchtext) (3.1.4)\n",
      "Requirement already satisfied: fsspec in c:\\users\\esmail-ata\\appdata\\local\\anaconda3\\lib\\site-packages (from torch>=2.3.0->torchtext) (2024.3.1)\n",
      "Requirement already satisfied: setuptools in c:\\users\\esmail-ata\\appdata\\local\\anaconda3\\lib\\site-packages (from torch>=2.3.0->torchtext) (69.5.1)\n",
      "Requirement already satisfied: charset-normalizer<4,>=2 in c:\\users\\esmail-ata\\appdata\\local\\anaconda3\\lib\\site-packages (from requests->torchtext) (2.0.4)\n",
      "Requirement already satisfied: idna<4,>=2.5 in c:\\users\\esmail-ata\\appdata\\local\\anaconda3\\lib\\site-packages (from requests->torchtext) (3.7)\n",
      "Requirement already satisfied: urllib3<3,>=1.21.1 in c:\\users\\esmail-ata\\appdata\\local\\anaconda3\\lib\\site-packages (from requests->torchtext) (2.2.2)\n",
      "Requirement already satisfied: certifi>=2017.4.17 in c:\\users\\esmail-ata\\appdata\\local\\anaconda3\\lib\\site-packages (from requests->torchtext) (2024.7.4)\n",
      "Requirement already satisfied: colorama in c:\\users\\esmail-ata\\appdata\\local\\anaconda3\\lib\\site-packages (from tqdm->torchtext) (0.4.6)\n",
      "Requirement already satisfied: MarkupSafe>=2.0 in c:\\users\\esmail-ata\\appdata\\local\\anaconda3\\lib\\site-packages (from jinja2->torch>=2.3.0->torchtext) (2.1.3)\n",
      "Requirement already satisfied: mpmath>=0.19 in c:\\users\\esmail-ata\\appdata\\local\\anaconda3\\lib\\site-packages (from sympy->torch>=2.3.0->torchtext) (1.3.0)\n",
      "Downloading torchtext-0.18.0-cp312-cp312-win_amd64.whl (2.0 MB)\n",
      "   ---------------------------------------- 0.0/2.0 MB ? eta -:--:--\n",
      "   ---------------------------------------- 0.0/2.0 MB ? eta -:--:--\n",
      "    --------------------------------------- 0.0/2.0 MB 325.1 kB/s eta 0:00:06\n",
      "    --------------------------------------- 0.0/2.0 MB 325.1 kB/s eta 0:00:06\n",
      "    --------------------------------------- 0.0/2.0 MB 325.1 kB/s eta 0:00:06\n",
      "    --------------------------------------- 0.0/2.0 MB 325.1 kB/s eta 0:00:06\n",
      "    --------------------------------------- 0.0/2.0 MB 163.4 kB/s eta 0:00:12\n",
      "   - -------------------------------------- 0.1/2.0 MB 217.9 kB/s eta 0:00:09\n",
      "   - -------------------------------------- 0.1/2.0 MB 286.7 kB/s eta 0:00:07\n",
      "   -- ------------------------------------- 0.1/2.0 MB 327.2 kB/s eta 0:00:06\n",
      "   -- ------------------------------------- 0.1/2.0 MB 327.2 kB/s eta 0:00:06\n",
      "   -- ------------------------------------- 0.1/2.0 MB 288.1 kB/s eta 0:00:07\n",
      "   --- ------------------------------------ 0.2/2.0 MB 364.0 kB/s eta 0:00:05\n",
      "   --- ------------------------------------ 0.2/2.0 MB 393.0 kB/s eta 0:00:05\n",
      "   ---- ----------------------------------- 0.2/2.0 MB 430.1 kB/s eta 0:00:05\n",
      "   ----- ---------------------------------- 0.3/2.0 MB 462.0 kB/s eta 0:00:04\n",
      "   ----- ---------------------------------- 0.3/2.0 MB 491.1 kB/s eta 0:00:04\n",
      "   ------ --------------------------------- 0.3/2.0 MB 486.8 kB/s eta 0:00:04\n",
      "   ------- -------------------------------- 0.4/2.0 MB 543.2 kB/s eta 0:00:03\n",
      "   -------- ------------------------------- 0.4/2.0 MB 594.3 kB/s eta 0:00:03\n",
      "   --------- ------------------------------ 0.5/2.0 MB 640.9 kB/s eta 0:00:03\n",
      "   ---------- ----------------------------- 0.5/2.0 MB 654.8 kB/s eta 0:00:03\n",
      "   ---------- ----------------------------- 0.5/2.0 MB 655.3 kB/s eta 0:00:03\n",
      "   ----------- ---------------------------- 0.6/2.0 MB 679.4 kB/s eta 0:00:03\n",
      "   ------------ --------------------------- 0.6/2.0 MB 690.6 kB/s eta 0:00:02\n",
      "   ------------- -------------------------- 0.7/2.0 MB 711.3 kB/s eta 0:00:02\n",
      "   -------------- ------------------------- 0.7/2.0 MB 753.3 kB/s eta 0:00:02\n",
      "   --------------- ------------------------ 0.7/2.0 MB 760.9 kB/s eta 0:00:02\n",
      "   ---------------- ----------------------- 0.8/2.0 MB 796.2 kB/s eta 0:00:02\n",
      "   ----------------- ---------------------- 0.9/2.0 MB 811.8 kB/s eta 0:00:02\n",
      "   ------------------- -------------------- 0.9/2.0 MB 842.4 kB/s eta 0:00:02\n",
      "   -------------------- ------------------- 1.0/2.0 MB 861.6 kB/s eta 0:00:02\n",
      "   --------------------- ------------------ 1.0/2.0 MB 882.5 kB/s eta 0:00:02\n",
      "   ---------------------- ----------------- 1.1/2.0 MB 901.5 kB/s eta 0:00:01\n",
      "   ----------------------- ---------------- 1.2/2.0 MB 917.5 kB/s eta 0:00:01\n",
      "   ------------------------- -------------- 1.2/2.0 MB 939.5 kB/s eta 0:00:01\n",
      "   -------------------------- ------------- 1.3/2.0 MB 947.7 kB/s eta 0:00:01\n",
      "   -------------------------- ------------- 1.3/2.0 MB 956.2 kB/s eta 0:00:01\n",
      "   ---------------------------- ----------- 1.4/2.0 MB 982.5 kB/s eta 0:00:01\n",
      "   ----------------------------- ---------- 1.4/2.0 MB 996.9 kB/s eta 0:00:01\n",
      "   ------------------------------ --------- 1.5/2.0 MB 1.0 MB/s eta 0:00:01\n",
      "   ------------------------------- -------- 1.6/2.0 MB 1.0 MB/s eta 0:00:01\n",
      "   --------------------------------- ------ 1.6/2.0 MB 1.0 MB/s eta 0:00:01\n",
      "   ---------------------------------- ----- 1.7/2.0 MB 1.0 MB/s eta 0:00:01\n",
      "   ----------------------------------- ---- 1.8/2.0 MB 1.1 MB/s eta 0:00:01\n",
      "   ------------------------------------ --- 1.8/2.0 MB 1.1 MB/s eta 0:00:01\n",
      "   -------------------------------------- - 1.9/2.0 MB 1.1 MB/s eta 0:00:01\n",
      "   ---------------------------------------  1.9/2.0 MB 1.1 MB/s eta 0:00:01\n",
      "   ---------------------------------------  1.9/2.0 MB 1.1 MB/s eta 0:00:01\n",
      "   ---------------------------------------- 2.0/2.0 MB 1.1 MB/s eta 0:00:00\n",
      "Installing collected packages: torchtext\n",
      "Successfully installed torchtext-0.18.0\n"
     ]
    }
   ],
   "source": [
    "!pip install torchtext"
   ]
  },
  {
   "cell_type": "code",
   "execution_count": 3,
   "metadata": {},
   "outputs": [
    {
     "name": "stderr",
     "output_type": "stream",
     "text": [
      "c:\\Users\\Esmail-Ata\\AppData\\Local\\anaconda3\\Lib\\site-packages\\torchtext\\__init__.py:7: SyntaxWarning: invalid escape sequence '\\ '\n",
      "  \"\\n/!\\ IMPORTANT WARNING ABOUT TORCHTEXT STATUS /!\\ \\n\"\n"
     ]
    },
    {
     "ename": "OSError",
     "evalue": "[WinError 127] The specified procedure could not be found",
     "output_type": "error",
     "traceback": [
      "\u001b[1;31m---------------------------------------------------------------------------\u001b[0m",
      "\u001b[1;31mOSError\u001b[0m                                   Traceback (most recent call last)",
      "Cell \u001b[1;32mIn[3], line 5\u001b[0m\n\u001b[0;32m      3\u001b[0m \u001b[38;5;28;01mimport\u001b[39;00m \u001b[38;5;21;01mtorch\u001b[39;00m\u001b[38;5;21;01m.\u001b[39;00m\u001b[38;5;21;01mnn\u001b[39;00m \u001b[38;5;28;01mas\u001b[39;00m \u001b[38;5;21;01mnn\u001b[39;00m\n\u001b[0;32m      4\u001b[0m \u001b[38;5;28;01mfrom\u001b[39;00m \u001b[38;5;21;01mconfig\u001b[39;00m \u001b[38;5;28;01mimport\u001b[39;00m get_config, latest_weights_file_path\n\u001b[1;32m----> 5\u001b[0m \u001b[38;5;28;01mfrom\u001b[39;00m \u001b[38;5;21;01mtrain\u001b[39;00m \u001b[38;5;28;01mimport\u001b[39;00m get_model, get_ds, run_validation\n\u001b[0;32m      6\u001b[0m \u001b[38;5;28;01mfrom\u001b[39;00m \u001b[38;5;21;01mtranslate\u001b[39;00m \u001b[38;5;28;01mimport\u001b[39;00m translate\n",
      "File \u001b[1;32mc:\\Users\\Esmail-Ata\\Desktop\\pytorch-transformer\\train.py:5\u001b[0m\n\u001b[0;32m      2\u001b[0m \u001b[38;5;28;01mfrom\u001b[39;00m \u001b[38;5;21;01mdataset\u001b[39;00m \u001b[38;5;28;01mimport\u001b[39;00m BilingualDataset, causal_mask\n\u001b[0;32m      3\u001b[0m \u001b[38;5;28;01mfrom\u001b[39;00m \u001b[38;5;21;01mconfig\u001b[39;00m \u001b[38;5;28;01mimport\u001b[39;00m get_config, get_weights_file_path, latest_weights_file_path\n\u001b[1;32m----> 5\u001b[0m \u001b[38;5;28;01mimport\u001b[39;00m \u001b[38;5;21;01mtorchtext\u001b[39;00m\u001b[38;5;21;01m.\u001b[39;00m\u001b[38;5;21;01mdatasets\u001b[39;00m \u001b[38;5;28;01mas\u001b[39;00m \u001b[38;5;21;01mdatasets\u001b[39;00m\n\u001b[0;32m      6\u001b[0m \u001b[38;5;28;01mimport\u001b[39;00m \u001b[38;5;21;01mtorch\u001b[39;00m\n\u001b[0;32m      7\u001b[0m \u001b[38;5;28;01mimport\u001b[39;00m \u001b[38;5;21;01mtorch\u001b[39;00m\u001b[38;5;21;01m.\u001b[39;00m\u001b[38;5;21;01mnn\u001b[39;00m \u001b[38;5;28;01mas\u001b[39;00m \u001b[38;5;21;01mnn\u001b[39;00m\n",
      "File \u001b[1;32mc:\\Users\\Esmail-Ata\\AppData\\Local\\anaconda3\\Lib\\site-packages\\torchtext\\__init__.py:18\u001b[0m\n\u001b[0;32m     15\u001b[0m     _WARN \u001b[38;5;241m=\u001b[39m \u001b[38;5;28;01mFalse\u001b[39;00m\n\u001b[0;32m     17\u001b[0m \u001b[38;5;66;03m# the following import has to happen first in order to load the torchtext C++ library\u001b[39;00m\n\u001b[1;32m---> 18\u001b[0m \u001b[38;5;28;01mfrom\u001b[39;00m \u001b[38;5;21;01mtorchtext\u001b[39;00m \u001b[38;5;28;01mimport\u001b[39;00m _extension  \u001b[38;5;66;03m# noqa: F401\u001b[39;00m\n\u001b[0;32m     20\u001b[0m _TEXT_BUCKET \u001b[38;5;241m=\u001b[39m \u001b[38;5;124m\"\u001b[39m\u001b[38;5;124mhttps://download.pytorch.org/models/text/\u001b[39m\u001b[38;5;124m\"\u001b[39m\n\u001b[0;32m     22\u001b[0m _CACHE_DIR \u001b[38;5;241m=\u001b[39m os\u001b[38;5;241m.\u001b[39mpath\u001b[38;5;241m.\u001b[39mexpanduser(os\u001b[38;5;241m.\u001b[39mpath\u001b[38;5;241m.\u001b[39mjoin(_get_torch_home(), \u001b[38;5;124m\"\u001b[39m\u001b[38;5;124mtext\u001b[39m\u001b[38;5;124m\"\u001b[39m))\n",
      "File \u001b[1;32mc:\\Users\\Esmail-Ata\\AppData\\Local\\anaconda3\\Lib\\site-packages\\torchtext\\_extension.py:64\u001b[0m\n\u001b[0;32m     59\u001b[0m     \u001b[38;5;66;03m# This import is for initializing the methods registered via PyBind11\u001b[39;00m\n\u001b[0;32m     60\u001b[0m     \u001b[38;5;66;03m# This has to happen after the base library is loaded\u001b[39;00m\n\u001b[0;32m     61\u001b[0m     \u001b[38;5;28;01mfrom\u001b[39;00m \u001b[38;5;21;01mtorchtext\u001b[39;00m \u001b[38;5;28;01mimport\u001b[39;00m _torchtext  \u001b[38;5;66;03m# noqa\u001b[39;00m\n\u001b[1;32m---> 64\u001b[0m \u001b[43m_init_extension\u001b[49m\u001b[43m(\u001b[49m\u001b[43m)\u001b[49m\n",
      "File \u001b[1;32mc:\\Users\\Esmail-Ata\\AppData\\Local\\anaconda3\\Lib\\site-packages\\torchtext\\_extension.py:58\u001b[0m, in \u001b[0;36m_init_extension\u001b[1;34m()\u001b[0m\n\u001b[0;32m     55\u001b[0m \u001b[38;5;28;01mif\u001b[39;00m \u001b[38;5;129;01mnot\u001b[39;00m _mod_utils\u001b[38;5;241m.\u001b[39mis_module_available(\u001b[38;5;124m\"\u001b[39m\u001b[38;5;124mtorchtext._torchtext\u001b[39m\u001b[38;5;124m\"\u001b[39m):\n\u001b[0;32m     56\u001b[0m     \u001b[38;5;28;01mraise\u001b[39;00m \u001b[38;5;167;01mImportError\u001b[39;00m(\u001b[38;5;124m\"\u001b[39m\u001b[38;5;124mtorchtext C++ Extension is not found.\u001b[39m\u001b[38;5;124m\"\u001b[39m)\n\u001b[1;32m---> 58\u001b[0m \u001b[43m_load_lib\u001b[49m\u001b[43m(\u001b[49m\u001b[38;5;124;43m\"\u001b[39;49m\u001b[38;5;124;43mlibtorchtext\u001b[39;49m\u001b[38;5;124;43m\"\u001b[39;49m\u001b[43m)\u001b[49m\n\u001b[0;32m     59\u001b[0m \u001b[38;5;66;03m# This import is for initializing the methods registered via PyBind11\u001b[39;00m\n\u001b[0;32m     60\u001b[0m \u001b[38;5;66;03m# This has to happen after the base library is loaded\u001b[39;00m\n\u001b[0;32m     61\u001b[0m \u001b[38;5;28;01mfrom\u001b[39;00m \u001b[38;5;21;01mtorchtext\u001b[39;00m \u001b[38;5;28;01mimport\u001b[39;00m _torchtext\n",
      "File \u001b[1;32mc:\\Users\\Esmail-Ata\\AppData\\Local\\anaconda3\\Lib\\site-packages\\torchtext\\_extension.py:50\u001b[0m, in \u001b[0;36m_load_lib\u001b[1;34m(lib)\u001b[0m\n\u001b[0;32m     48\u001b[0m \u001b[38;5;28;01mif\u001b[39;00m \u001b[38;5;129;01mnot\u001b[39;00m path\u001b[38;5;241m.\u001b[39mexists():\n\u001b[0;32m     49\u001b[0m     \u001b[38;5;28;01mreturn\u001b[39;00m \u001b[38;5;28;01mFalse\u001b[39;00m\n\u001b[1;32m---> 50\u001b[0m \u001b[43mtorch\u001b[49m\u001b[38;5;241;43m.\u001b[39;49m\u001b[43mops\u001b[49m\u001b[38;5;241;43m.\u001b[39;49m\u001b[43mload_library\u001b[49m\u001b[43m(\u001b[49m\u001b[43mpath\u001b[49m\u001b[43m)\u001b[49m\n\u001b[0;32m     51\u001b[0m \u001b[38;5;28;01mreturn\u001b[39;00m \u001b[38;5;28;01mTrue\u001b[39;00m\n",
      "File \u001b[1;32mc:\\Users\\Esmail-Ata\\AppData\\Local\\anaconda3\\Lib\\site-packages\\torch\\_ops.py:1295\u001b[0m, in \u001b[0;36m_Ops.load_library\u001b[1;34m(self, path)\u001b[0m\n\u001b[0;32m   1290\u001b[0m path \u001b[38;5;241m=\u001b[39m _utils_internal\u001b[38;5;241m.\u001b[39mresolve_library_path(path)\n\u001b[0;32m   1291\u001b[0m \u001b[38;5;28;01mwith\u001b[39;00m dl_open_guard():\n\u001b[0;32m   1292\u001b[0m     \u001b[38;5;66;03m# Import the shared library into the process, thus running its\u001b[39;00m\n\u001b[0;32m   1293\u001b[0m     \u001b[38;5;66;03m# static (global) initialization code in order to register custom\u001b[39;00m\n\u001b[0;32m   1294\u001b[0m     \u001b[38;5;66;03m# operators with the JIT.\u001b[39;00m\n\u001b[1;32m-> 1295\u001b[0m     \u001b[43mctypes\u001b[49m\u001b[38;5;241;43m.\u001b[39;49m\u001b[43mCDLL\u001b[49m\u001b[43m(\u001b[49m\u001b[43mpath\u001b[49m\u001b[43m)\u001b[49m\n\u001b[0;32m   1296\u001b[0m \u001b[38;5;28mself\u001b[39m\u001b[38;5;241m.\u001b[39mloaded_libraries\u001b[38;5;241m.\u001b[39madd(path)\n",
      "File \u001b[1;32mc:\\Users\\Esmail-Ata\\AppData\\Local\\anaconda3\\Lib\\ctypes\\__init__.py:379\u001b[0m, in \u001b[0;36mCDLL.__init__\u001b[1;34m(self, name, mode, handle, use_errno, use_last_error, winmode)\u001b[0m\n\u001b[0;32m    376\u001b[0m \u001b[38;5;28mself\u001b[39m\u001b[38;5;241m.\u001b[39m_FuncPtr \u001b[38;5;241m=\u001b[39m _FuncPtr\n\u001b[0;32m    378\u001b[0m \u001b[38;5;28;01mif\u001b[39;00m handle \u001b[38;5;129;01mis\u001b[39;00m \u001b[38;5;28;01mNone\u001b[39;00m:\n\u001b[1;32m--> 379\u001b[0m     \u001b[38;5;28mself\u001b[39m\u001b[38;5;241m.\u001b[39m_handle \u001b[38;5;241m=\u001b[39m \u001b[43m_dlopen\u001b[49m\u001b[43m(\u001b[49m\u001b[38;5;28;43mself\u001b[39;49m\u001b[38;5;241;43m.\u001b[39;49m\u001b[43m_name\u001b[49m\u001b[43m,\u001b[49m\u001b[43m \u001b[49m\u001b[43mmode\u001b[49m\u001b[43m)\u001b[49m\n\u001b[0;32m    380\u001b[0m \u001b[38;5;28;01melse\u001b[39;00m:\n\u001b[0;32m    381\u001b[0m     \u001b[38;5;28mself\u001b[39m\u001b[38;5;241m.\u001b[39m_handle \u001b[38;5;241m=\u001b[39m handle\n",
      "\u001b[1;31mOSError\u001b[0m: [WinError 127] The specified procedure could not be found"
     ]
    }
   ],
   "source": [
    "from pathlib import Path\n",
    "import torch\n",
    "import torch.nn as nn\n",
    "from config import get_config, latest_weights_file_path\n",
    "from train import get_model, get_ds, run_validation\n",
    "from translate import translate"
   ]
  },
  {
   "cell_type": "code",
   "execution_count": 4,
   "metadata": {},
   "outputs": [
    {
     "name": "stdout",
     "output_type": "stream",
     "text": [
      "Using device: cuda\n"
     ]
    },
    {
     "ename": "NameError",
     "evalue": "name 'get_ds' is not defined",
     "output_type": "error",
     "traceback": [
      "\u001b[1;31m---------------------------------------------------------------------------\u001b[0m",
      "\u001b[1;31mNameError\u001b[0m                                 Traceback (most recent call last)",
      "Cell \u001b[1;32mIn[4], line 5\u001b[0m\n\u001b[0;32m      3\u001b[0m \u001b[38;5;28mprint\u001b[39m(\u001b[38;5;124m\"\u001b[39m\u001b[38;5;124mUsing device:\u001b[39m\u001b[38;5;124m\"\u001b[39m, device)\n\u001b[0;32m      4\u001b[0m config \u001b[38;5;241m=\u001b[39m get_config()\n\u001b[1;32m----> 5\u001b[0m train_dataloader, val_dataloader, tokenizer_src, tokenizer_tgt \u001b[38;5;241m=\u001b[39m \u001b[43mget_ds\u001b[49m(config)\n\u001b[0;32m      6\u001b[0m model \u001b[38;5;241m=\u001b[39m get_model(config, tokenizer_src\u001b[38;5;241m.\u001b[39mget_vocab_size(), tokenizer_tgt\u001b[38;5;241m.\u001b[39mget_vocab_size())\u001b[38;5;241m.\u001b[39mto(device)\n\u001b[0;32m      8\u001b[0m \u001b[38;5;66;03m# Load the pretrained weights\u001b[39;00m\n",
      "\u001b[1;31mNameError\u001b[0m: name 'get_ds' is not defined"
     ]
    }
   ],
   "source": [
    "# Define the device\n",
    "device = torch.device(\"cuda\" if torch.cuda.is_available() else \"cpu\")\n",
    "print(\"Using device:\", device)\n",
    "config = get_config()\n",
    "train_dataloader, val_dataloader, tokenizer_src, tokenizer_tgt = get_ds(config)\n",
    "model = get_model(config, tokenizer_src.get_vocab_size(), tokenizer_tgt.get_vocab_size()).to(device)\n",
    "\n",
    "# Load the pretrained weights\n",
    "model_filename = latest_weights_file_path(config)\n",
    "state = torch.load(model_filename)\n",
    "model.load_state_dict(state['model_state_dict'])"
   ]
  },
  {
   "cell_type": "code",
   "execution_count": null,
   "metadata": {},
   "outputs": [],
   "source": [
    "run_validation(model, val_dataloader, tokenizer_src, tokenizer_tgt, config['seq_len'], device, lambda msg: print(msg), 0, None, num_examples=10)"
   ]
  },
  {
   "cell_type": "code",
   "execution_count": null,
   "metadata": {},
   "outputs": [],
   "source": [
    "t = translate(\"Why do I need to translate this?\")"
   ]
  },
  {
   "cell_type": "code",
   "execution_count": null,
   "metadata": {},
   "outputs": [],
   "source": [
    "t = translate(34)"
   ]
  },
  {
   "cell_type": "code",
   "execution_count": null,
   "metadata": {},
   "outputs": [],
   "source": []
  }
 ],
 "metadata": {
  "kernelspec": {
   "display_name": "transformer",
   "language": "python",
   "name": "python3"
  },
  "language_info": {
   "codemirror_mode": {
    "name": "ipython",
    "version": 3
   },
   "file_extension": ".py",
   "mimetype": "text/x-python",
   "name": "python",
   "nbconvert_exporter": "python",
   "pygments_lexer": "ipython3",
   "version": "3.12.4"
  },
  "orig_nbformat": 4
 },
 "nbformat": 4,
 "nbformat_minor": 2
}
